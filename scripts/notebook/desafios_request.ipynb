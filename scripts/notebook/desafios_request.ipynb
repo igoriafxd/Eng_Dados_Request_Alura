{
 "cells": [
  {
   "cell_type": "markdown",
   "metadata": {},
   "source": [
    "<div style=\"font-size: 2em;\">DESAFIO 1</div>\n",
    "<div style=\"font-size: 1em;\">Bora praticar ?</div>\n"
   ]
  },
  {
   "cell_type": "markdown",
   "metadata": {},
   "source": [
    "Para praticar o conteúdo aprendido no decorrer dessa aula e também aprender novos, vamos realizar um desafio prático utilizando a biblioteca Requests e a API do GitHub.\n",
    "\n",
    "Faça uma requisição GET à API do Github para obter as informações do perfil de um usuário específico. Para isso, utilize a biblioteca Requests do Python e a URL https://api.github.com/users/{username}, substituindo {username} pelo nome de usuário desejado.\n",
    "\n",
    "Com o objeto response retornado pela requisição, imprima na tela as seguintes informações sobre a requisição:\n",
    "\n",
    "status code da requisição, para analisar se foi bem sucedida ou não;\n",
    "conteúdo da requisição, para conferir se os dados de usuário vieram corretamente;\n",
    "URL da requisição feita, para garantir que a url utilizada na requisição foi a correta.\n",
    "Após conferir isso, analise novamente o conteúdo retornado pela requisição e imprima na tela apenas as seguintes informações sobre a pessoa usuária em questão:\n",
    "\n",
    "Nome\n",
    "Nome de usuário\n",
    "Número de repositórios públicos\n",
    "Data de criação da conta no GitHub\n",
    "Dica: Para selecionar essas informações específicas, você pode visualizar o conteúdo da requisição no formato JSON e fazer a seleção das chaves que possuem as informações desejadas.\n",
    "\n",
    "Se precisar de ajuda, na seção \"Opinião do Instrutor\" você pode encontrar algumas formas de resolver os desafios propostos acima."
   ]
  },
  {
   "cell_type": "code",
   "execution_count": 1,
   "metadata": {},
   "outputs": [],
   "source": [
    "import requests"
   ]
  },
  {
   "cell_type": "code",
   "execution_count": 2,
   "metadata": {},
   "outputs": [],
   "source": [
    "r = requests.get('https://api.github.com/users/igorfariassim')\n"
   ]
  },
  {
   "cell_type": "code",
   "execution_count": 3,
   "metadata": {},
   "outputs": [
    {
     "data": {
      "text/plain": [
       "200"
      ]
     },
     "execution_count": 3,
     "metadata": {},
     "output_type": "execute_result"
    }
   ],
   "source": [
    "r.status_code"
   ]
  },
  {
   "cell_type": "code",
   "execution_count": 4,
   "metadata": {},
   "outputs": [
    {
     "data": {
      "text/plain": [
       "{'login': 'igorfariassim',\n",
       " 'id': 159351390,\n",
       " 'node_id': 'U_kgDOCX-CXg',\n",
       " 'avatar_url': 'https://avatars.githubusercontent.com/u/159351390?v=4',\n",
       " 'gravatar_id': '',\n",
       " 'url': 'https://api.github.com/users/igorfariassim',\n",
       " 'html_url': 'https://github.com/igorfariassim',\n",
       " 'followers_url': 'https://api.github.com/users/igorfariassim/followers',\n",
       " 'following_url': 'https://api.github.com/users/igorfariassim/following{/other_user}',\n",
       " 'gists_url': 'https://api.github.com/users/igorfariassim/gists{/gist_id}',\n",
       " 'starred_url': 'https://api.github.com/users/igorfariassim/starred{/owner}{/repo}',\n",
       " 'subscriptions_url': 'https://api.github.com/users/igorfariassim/subscriptions',\n",
       " 'organizations_url': 'https://api.github.com/users/igorfariassim/orgs',\n",
       " 'repos_url': 'https://api.github.com/users/igorfariassim/repos',\n",
       " 'events_url': 'https://api.github.com/users/igorfariassim/events{/privacy}',\n",
       " 'received_events_url': 'https://api.github.com/users/igorfariassim/received_events',\n",
       " 'type': 'User',\n",
       " 'site_admin': False,\n",
       " 'name': 'Igor Azevedo',\n",
       " 'company': 'Clinica Sim',\n",
       " 'blog': '',\n",
       " 'location': 'Fortaleza/CE',\n",
       " 'email': None,\n",
       " 'hireable': None,\n",
       " 'bio': None,\n",
       " 'twitter_username': None,\n",
       " 'public_repos': 2,\n",
       " 'public_gists': 0,\n",
       " 'followers': 0,\n",
       " 'following': 0,\n",
       " 'created_at': '2024-02-07T20:37:44Z',\n",
       " 'updated_at': '2024-04-21T13:32:48Z'}"
      ]
     },
     "execution_count": 4,
     "metadata": {},
     "output_type": "execute_result"
    }
   ],
   "source": [
    "r.json()"
   ]
  },
  {
   "cell_type": "code",
   "execution_count": 5,
   "metadata": {},
   "outputs": [
    {
     "data": {
      "text/plain": [
       "'https://api.github.com/users/igorfariassim'"
      ]
     },
     "execution_count": 5,
     "metadata": {},
     "output_type": "execute_result"
    }
   ],
   "source": [
    "r.url"
   ]
  },
  {
   "cell_type": "code",
   "execution_count": 6,
   "metadata": {},
   "outputs": [
    {
     "name": "stdout",
     "output_type": "stream",
     "text": [
      "nome: Igor Azevedo\n",
      "nome usuário: igorfariassim\n",
      "Número de repositórios públicos: 2\n",
      "Data de criação da conta no GitHub: 2024-02-07T20:37:44Z\n"
     ]
    }
   ],
   "source": [
    "dados_igor = r.json()\n",
    "print(f\"nome: {dados_igor['name']}\")\n",
    "print(f\"nome usuário: {dados_igor['login']}\")\n",
    "print(f\"Número de repositórios públicos: {dados_igor['public_repos']}\")\n",
    "print(f\"Data de criação da conta no GitHub: {dados_igor['created_at']}\")"
   ]
  },
  {
   "cell_type": "markdown",
   "metadata": {},
   "source": [
    "<div style=\"font-size: 2em;\">DESAFIO 2</div>\n",
    "<div style=\"font-size: 1em;\">Bora praticar ?</div>"
   ]
  },
  {
   "cell_type": "code",
   "execution_count": 7,
   "metadata": {},
   "outputs": [],
   "source": [
    "import requests\n",
    "import config\n",
    "\n",
    "\n",
    "username = 'amzn'\n",
    "url = f\"https://api.github.com/users/{username}/followers\"\n",
    "\n",
    "access_token = config.TOKEN\n",
    "headers = {'Authorization': 'Bearer ' + access_token,\n",
    "           'X-GitHub-Api-Version': '2022-11-28'}\n",
    "\n",
    "response = requests.get(url, headers=headers)\n",
    "followers = response.json()"
   ]
  },
  {
   "cell_type": "code",
   "execution_count": 8,
   "metadata": {},
   "outputs": [
    {
     "data": {
      "text/plain": [
       "30"
      ]
     },
     "execution_count": 8,
     "metadata": {},
     "output_type": "execute_result"
    }
   ],
   "source": [
    "len(followers)"
   ]
  },
  {
   "cell_type": "code",
   "execution_count": 9,
   "metadata": {},
   "outputs": [],
   "source": [
    "followers_list = []"
   ]
  },
  {
   "cell_type": "markdown",
   "metadata": {},
   "source": [
    "repos_list = []\n",
    "for page_num in range(1, 6):\n",
    "    try:\n",
    "        url_page = f'{url}?page={page_num}'\n",
    "        response = requests.get(url_page, headers=headers)\n",
    "        repos_list.append(response.json())\n",
    "    except:\n",
    "        repos_list.append(None)"
   ]
  },
  {
   "cell_type": "code",
   "execution_count": 10,
   "metadata": {},
   "outputs": [],
   "source": [
    "page_num = 1\n",
    "while True:  # Continua indefinidamente até que não haja mais páginas\n",
    "    try:\n",
    "        url_page = f'{url}?page={page_num}'\n",
    "        response = requests.get(url_page, headers=headers)\n",
    "        if response.status_code == 200:\n",
    "            followers = response.json()\n",
    "            if len(followers)!=0:  # Verifica se há seguidores na página\n",
    "                followers_list.append(followers)\n",
    "                page_num += 1  # Move para a próxima página\n",
    "            else:\n",
    "                break  # Sai do loop se não houver mais seguidores\n",
    "        else:\n",
    "            print(f\"Falha na solicitação: {response.status_code}\")\n",
    "            break  # Sai do loop em caso de falha na solicitação\n",
    "    except Exception as e:\n",
    "        print(f\"Erro: {e}\")\n",
    "        break  # Sai do loop em caso de erro\n"
   ]
  },
  {
   "cell_type": "code",
   "execution_count": 11,
   "metadata": {},
   "outputs": [
    {
     "data": {
      "text/plain": [
       "30"
      ]
     },
     "execution_count": 11,
     "metadata": {},
     "output_type": "execute_result"
    }
   ],
   "source": [
    "len(followers_list[1])"
   ]
  },
  {
   "cell_type": "markdown",
   "metadata": {},
   "source": [
    "# Desafio 3\n",
    "bora praticar ?"
   ]
  },
  {
   "cell_type": "code",
   "execution_count": 12,
   "metadata": {},
   "outputs": [
    {
     "data": {
      "text/plain": [
       "'koconder'"
      ]
     },
     "execution_count": 12,
     "metadata": {},
     "output_type": "execute_result"
    }
   ],
   "source": [
    "followers_list[0][3]['login']\n",
    "# fazer um laço para percorrer e guardar só o nome"
   ]
  },
  {
   "cell_type": "code",
   "execution_count": 13,
   "metadata": {},
   "outputs": [
    {
     "name": "stdout",
     "output_type": "stream",
     "text": [
      "['tkersey', 'njonsson', 'bangpound', 'koconder', 'Rud5G', 'mlsj1', 'syug', 'esneko', 'neopunisher', 'jazzwang', 'begoon', 'fly51fly', 'fallenpegasus', 'fribeiro1', 'brase', 'chchrist', 'massimoselvi', 'ScottJWalter', 'adeelahmad', 'mindcrime', 'informaticadiaz', 'MarceloNascimento', 'dmsbilas', 'thimslugga', 'leecardona', 'nara', 'openam', 'semsphy', 'srp19', 'DaemonCahill', 'Cambera', 'riyadparvez', 'nattfodd', 'mitaka', 'ZhangYunfang', 'temosy', 'threadstonesecure', 'manuelhunziker', 'ambagasdowa', 'pedro-lima', 'alexharvey', 'josh-fisher', 'kumarlokesh', 'subidit', 'pdevenraj', 'nerandell', 'raghuboosetty', 'tdmalone', '34code', 'burib', 'whn09', 'bobbyearl', 'alishir', 'ahlfors', 'bsrz', 'mailmahee', 'mihkels', 'daefresh', 'dofstar', 'codee', 'LisaDelaney', 'EdZava', 'pmanolak', 'kistasi', 'firebitsbr', 'glaucodiogo', 'manjunathd', 'afonsoalban', 'rsaa', 'hvn0413', 'duxing2007', 'ste93cry', 'terran1942', 'itanoss', 'thesobercoder', 'bygbyron3', 'rickymaciel', 'KevinGimbel', 'zsp0817', 'konamo', 'voldyman', 'golf-x', 'alexjennings', 'somaditya', 'apjowen', 'usui-tk', 'dengqixing', 'Davi-He', 'godsoul', 'kumar-nitish', 'snoop0x7b', 'PandaBlessing', 'andyuls', 'juanjoruiz2109', 'mangualero', 'proverbs53', 'Rajivhost', 'universewrld', 'dpapageo', 'HJiefeng', 'kkpan11', 'plumcube', 'magigo', 'ahmadfaizalbh', 'flukebox', 'jakebrinkmann', 'simar1998', 'CheeseTurtle', 'AAbasinejad', 'virtuoushub', 'huamichaelchen', 'mumblepins', 'b3nkos', 'bretdarby', 'srinitude', 'the-watchmaker', 'codinggooner', 'kimpenguin', 'weisberg', 'ace-coder', 'infinitedreams9586', 'tusharsoni08', 'hoansgithub', 'schallerala', 'alexxyjiang', 'star-fx', 'amavlyanov', 'garciparedes', 'keshabb', 's0nlxaftrsh0ck', 'darasat', 'mklemann-com', 'tiloyi', 'roykalony', 'thomasdalbert', 'LavenderDaisy', 'edisona', 'Steven-Acomb', 'kevcooper', 'jodavaho', 'side9show', 'teeksingh', 'kevingrondin', 'koyashiro', 'unlitdev', 'well1791', 'mleziva', 'ajian005', 'ykaidashov', 'anand-b', 'xGreat', 'MatterhornProject', 'tolgabuyuktanir', 'cash2059', 'rajabalaji-mp', 'vedamj01', 'jafferlin', 'yixiuhua', 'rodazuero', 'JustCallMe-AK', 'henriquerick', 'Wyvernslay3r', 'gabrlyg', 'paulosiciliano', 'martinvaldivia', 'rdczhby', 'mys328', 'andrey-berenda', 'sinhang', 'Pal3love', 'Lakshmiaddepalli', 'mohamed-abdelsattar92', 'rawer886', 'thanhcsf', 'junaid109', 'bafeiyu', 'Ylmzef', 'anlexN', 'Janujan', 'fwblcz', 'djinl520', 'protyay', 'selfishprimate', 'Mwalthery', 'GregAllenSmith', 'zgover', 'avestura', 'aspindle', 'pqrsooo', 'evanshrestha', 'bos-hieu', 'hanautoparts4u', 'sonimonish00', 'ljesparis', 'imvikramn', 'massivelivefun', 'garrettrh', 'adanone', 'ghishadow', 'shower1986', 'mseld', 'JasonYe88', 'seshurajup', 'xiaopizi19', 'pelamlio', 'Asavarkhul', 'ajay340', 'custadian', 'KlwntSingh', 'FelixFeliciant', 'learnerzhang', 'gamedebug', 'jonathanarodr', 'osama-ahmed', 'nir-zilberman', 'changyongyong', 'bigDP', 'WajahatSiddiqui', 'markjohnlucas', 'Vaibhav', 'manavchoudhary', 'nikolaospapachristou', 'jcarlos001', 'vslala', 'Ngel-Castro', 'dawei-wang', 'George-Petrovski', 'JeffUssing', 'edstgo', 'yxblee', 'barisates', 'ankkrish', 'pratickRoy', 'pereirakadu', 'justinsamuel92', 'dotsnangles', '609151318', 'RyanAugust', 'igarash1', 'dbarrington', 'noid11', 'ioing', 'AruulmozhivarmanS', 'Tusharjagi', 'ivaylo-yordanov', 'rramirez0203', 'emullaraj', 'mcguegi', 'nbhirud', 'fischerleon', 'UmutSERIFLER', 'zhu0823', 'Joe192168', 'LindaHaviv', 'ball582', 'dmitrykrisko', 'we1l1n', 'thangnm93', 'dongzhuoyao', 'xuelangqingkong', 'godobyte', 'chanffdavid', 'anomaly-88', 'CLF3721', 'undabah', 'aymenbelarbi', 'ashish936', 'giotramu', '0xlkda', 'guilhermebc', 'SMBgurus', 'mate-h', 'artur-sak13', 'yorshreynoso', 'yehuizhang', 'AAdewunmi', 'Zenidog8', 'kalsyanpradeep', 'charaton', 'vonzou', 'jaymahfudy', 'maxsxu', 'keita-hino', 'KyuDounSim', 'Anirudh257', 'joaoantoniomartinsfilho', 'satyarajreddy', 'AnsonHwang86', 'xzm2004260', 'anirudhbagri', 'STCYC', 'rsmelo92', 'StrangerCoug', 'keren123', 'Grimgog', 'noodanee', 'alobe', 'JadeCong', 'graceko22', 'paletode', 'Timotej979', 'erenaslandev', 'serhiiklenachov', 'camerondurham', 'khanhhuy288', 'gstair', 'ifbowen', 'hotsticker', 'ningfc', 'RishabhKr97', 'jiangoz', 'ardasatata', 'Murplugg', 'tanvirstreame', 'kworkbee', 'arnab-ray', 'yuriykuntsyak', 'StarDustTwinkle', 'bahadirsahin', 'SMSesay', 'jamestiotio', 'anuj97', 'yaelBrown', 'motmaytinh', 'desaidn', 'NoxGamingQC', 'aravinthakannan', 'lingjiekong', 'diohsb', 'janviyao', 'hijiki51', 'mksarge', 'pradeepkni382', 'rdnasim', 'shrinidhibarthur', 'StrangeKnowledgeIncresed', 'Austin47', 'shokriw', 'franklin-monreal', 'xxh031203', 'dororoholic', 'lossfunc', 'feapaydin', 'loumalouomega', 'james-sungjae-lee', 'garyhtou', 'd3v2null', 'msweetland', 'jrjm1111', 'mitutitu16', 'ShuhaoZQGG', 'akashsathyan', 'chrisskhoury', 'jeremychauvet', 'riturajDas', 'Logicus03', 'chinchillajared', 'isabelchaves', 'shikharsaxena98', 'flukelaster', 'rjuer', 'mussieh', 'lintsai', 'nj1787', 'rockychang7', 'hanwgyu', 'wudangqibujie', 'DihanDai', 'drewfrost', 'MUmarJaved', 'contimatteo', 'amaankulshreshtha', 'hackenbacker', 'petronem', 'my1795', 'Pzoom522', 'SpeicherA', 'nityansuman', 'hahacyd', 'wangtiechuan', 'lynmison', 'anaghkanungo7', 'RickyC0626', 'WladFrazao', 'Ming0217', 'caesar-one', 'xuepengwei', 'Ishanna', 'nvspavankalyanch', 'JoeRMiller', 'devStarscream', 'nkn6294live', 'FanJups', 'ShwetaShivangi', 'amwi04', 'mnk400', 'pd14196', 'tychodev321', 'TheFJS14', 'Baleryom', 'caitinc', 'almokhtarbr', 'andreacip', 'alexanderafanasov', 'duranbe', 'thapaashis110', 'soccernut', 'mdobro1', 'royswale', 'saneknight', 'AnhTrieu', 'janmarkuslanger', 'morinyan', 'gujiacun', 'adileone', 'BIGChask', 'mapjx', 'fuhaoma', 'DXLZ', 'nuffQuantumSayd', 'kekemao00', 'lamsd', 'anuq', 'igorasantos', 'metaphor0', 'iashutoshtiwari', 'yaravi', 'skippermin', 'masakiasami', 'huannvttd98', 'SantosCristiano', 'thatbeautifuldream', 'happyqq', 'iameduardod', 'wuchunfu', 'venkate5hgunda', 'whuhxb', 'ks1990cn', 'ronnielutalo', 'Samutichev', 'jongan69', 'nmoisesp', 'kayericson', 'tjolr', 'LuGO0', 'lodhik9', 'cultivate5253', 'elafifi', 'akazyti', 'boomer2752', 'Luccasoli', 'benmassaoud', 'abheesht17', 'ShrivatsAgrawal', 'HebaElGalad', 'himanshututeja1998', 'sevenhqj', 'AsadAmir111', 'CWHer', 'Pei1133', 'proKress', 'SamuelMaculuve', 'pasenchenko', 'jinjidong', 'eemailme', 'Nikronic', 'Razdeep', 'FenTheDev', 'Dxdzy86', 'skywalkersPadawan', 'patrick22414', '13984468001', 'Jiahuan-Pei', 'AdityaSoni17', 'preciouschydo', 'johngunerli', 'xmaxance', 'akashmdkml', 'Menotron', 'smustafa75', 'nanaboat1', 'Karim-53', 'EthanC-8', 'nitinnbisht', 'ericpark123', '5l1v3r1', 'Yulv-git', 'hexolan', 'moqsien', 'MilleniumSpark', 'sagsango', 'Programador89', 'robertgro', 'JasonMoon95', 'raashidanwar', 'jackpan123', 'bshreddy', 'TsukasaSeto', 'PallaviVarandani', 'alvinlal', 'Rookl', 'awabasher', 'Katsukiniwa', 'PMcTwist', 'hqng', 'rkv0id', 'MadeInLondon', 'shiminfxcvii', 'sigsant', 'celikgokhun', 'shiva0612', 'kyamashiro', 'LasVegasBilly', 'Turbocaspal', 'davnunes', 'afondiel', 'johnnyrtrentin', 'stnorbi', 'stacyrymer86', 'zero-null', 'jh9875', 'GITWHB', 'ricardosuman', 'mencarellic', 'rabbithophop', 'ftf1218', 'hirawatt', 'adilet-saken', 'marcomamprin', 'Thejuskbenny', 'TomasDavidYe', 'nanaxumu', 'GabrielFerrante', '13995595007', 'tinahuang222', 'Bhavuk-Garg', 'Mzon2857', 'thiagomares', 'mjsheikh', 'anishamalde', 'easy147', 'TeddyCom1', 'prabhumns', 'HyunjunA', 'harishravi121', 'iamharvey', 'rahul-zomato', 'avanishvyas', 'inframarauder', 'YjqZhouxiao', 'adhamsalama', 'LuoTailong', 'sovansambath-phann', 'rkej', 'jinshuye', 'ibn-khafagah', 'kartikeytewari', 'md-arfin-cse', 'johncruyff14', 'johan-lab', 'ambanerjee', 'bzamith', 'deviknitkkr', 'Abirul', 'ranefattesingh', 'nesakobi', 'andrewdge', 'RobertConde', 'hartl3y94', 'saarthdeshpande', 'leechenze', 'Dexterzprotege', 'sandrawilczynski', 'Debarshi95', 'gauharayub', 'GowthamSk1', 'PolyVoid', 'middas-0706', 'WendyYanto', 'batuhan-basoglu', 'sangamesh-kodge', 'claudsonbarros', 'yotamnahum', 'huiminlim', 'sumukhteja', 'valtab', 'JankinTian', 'djmcclary', 'theroyakash', 'sadoreko', 'billsenxu', 'MarcoSantonastasi', 'cheungfujai', 'amadsalmon', 'infinitepower18', 'ashr4f1arr2ad', 'rgdyy', 'shayanekat', 'fellipematos', 'Disciple0fMarx', 'VE5ETA', 'KlinKlinKlin', 'ishu-thakur', 'brijeshbhalodiya', 'zaaakher', 'XRLZX8', 'soumyadbanik', 'zhnzhang', 'yhf98', 'xjhofernandes', 'gauravagrwal', 'juanca-jimi', 'mapy1874', 'JohnDNC', 'zeelsheladiya', 'ImKunYoung', 'EduardHov', 'risejl', 'Soumil-Bhattacharya', 'mahmoudmohamed22', 'johnmccants002', 'samedsemihs', 'moramadan98', 'aymandarwish', 'HongLouyemeng', 'maniac1122', 'Sambit650', 'haja-fgabriel', 'kohring', 'okonri', 'paulohenz', 'leopoldoH', 'cnhuz', 'liltommy1dev', 'Wwillers', 'owini', 'amirmojarad', 'RichardZj', 'nolvuscodes', 'MarcoSteinke', 'acox216', 'smy1999', 'anujchoudhary-17', 'mazrean', 'XrosLiang', '994Simone', 'Mystic-77', 'bruno-aires', 'Jirigesi', 'imokhtar', 'ArthurAnastopulos', 'w3dg', 'guilefoylegaurav', 'denmj', 'frankxzAmazon', 'ericwidjaja', 'mirfanaslam', 'nayeonshin', 'xiaozhiob', 'u-yas', 'smelouah', 'icqmula', 'dmascheck', 'Abhirajnow', 'sanjuchandra', 'sadiqshaik123', 'cccaimingjian', 'anurag01a', 'masrafi115', 'sm-heard', 'Abhijrathod', 'leonardoknakagawa', 'agastaldellomaccomit', 'steffiypx', 'AdnanAaddi', 'MaxDeveloper16', 'leonardofhy', 'tenpa007', 'gtrman97', 'MuffinAmor', 'amiranbari', 'rushilenekar20', 'soma2000-lang', 'jin-sungdae', 'Git-Codder', 'Ayush-Pujari-07', 'songziqwq', 'goillotc', '2019-GitHub-Chu', 'Tarsisnbs', 'dylenchang', 'chinkin707', 'frankporco', 'adithya1010', 'sametcn99', 'anubhvshrma18', 'Aditya-Khemka', 'chanwoo00106', 'FrankQixiangGao', 'alikemalozgumus', 'Codesmaster-lab', 'gwd666', 'dhanrajswami', 'Supriyo8799', 'Maher-RJ', 'Dajun-2019', 'stevenrsewell', 'Symon629', 'kranti2201', 'prad-j', 'jaquespavan', 'huiyouyou', 'vignesh5535', 'huai-jie', 'bipin0x01', 'chrichri17', 'GessioMori', 'TylerMamrot', 'danmslamt', 'Pecorari', '1MuhammadFarhanAslam', 'najmehn00', 'Uplift-0508', 'ajmalbinnizam', 'TatsuyaNakagoshi', 'NonymousMorlock', 'EfeAcar6431', 'akinfelami', 'avstreamdevpro', 'patpaws', 'NaoyaTatetsu', 'mijung-in-11st', 'simonjgr', 'Vigneshkumar212', 'avadhutjc', 'MLHaddon', 'Capital-SetMawHtay', 'jcork4real', 'samr874', 'aditya-repos', 'spencerlepine', 'calbergs', 'yusuke-z', 'jimmysmits', 'Drag0nf1y', 'JohnDoll2023', 'Saipraneeth99', 'ssantoshp', 'vinodpatildev', 'leejoonhun', 'mmhamdy', 'lorenonzi', 'VitorAkira-me', 'solfonte', 'PrideStudio', 'CodeMaster719', 'Matt-Bulk', 'xiao-cy', 'galichy79', 'thefaheemkhan', 'Flaiers', 'Derokkk', 'Shahna-C', 'chosungmann', 'Ethan-Ka', 'grahamwaters', 'deezeddd', 'jaymepsantos', 'mohamedhabibwork', 'hueiwhfa', 'anurag1504t', 'rajveer43', 'Kushan2k', 'Thilak-KN', 'Tiger15cub', 'AesisGit', 'rafaelporfiriobarros', 'OBud75', 'yosefkiros', 'benzebra', 'HamdanAr', 'ralintuscano', 'rhattox', 'FurkanEdizkan', 'SegaGLm', 'celso-na-teixeira', 'nilesh05apr', 'EM51641', 'seanpm2001', 'thiagodebugs', 'dylanhood', 'chris0765', 'JohnPPinto', 'Pquar', 'oss-mad', 'Mindula-Dilthushan', 'AHANCIT', 'sebaminaya0', 'd-t-n', 'rbuchmann77', 'Rameshraj55', 'SeifEldinMohamed', 'SteCC', 'JoseRicardoPE', 'PhumyJS', 'yuyingjun0922', 'shakhzodtojiev', 'ShabbirHasan1', 'klkuoguru', 'ggopal13', 'angeloS-98', 'yagikota', 'DougRog', 'rdbender', 'uivid64', 'deevanshu-k', 'linquint', 'jeanhackpy', 'PhaedrusFlow', 'nguyen-duy-tan', 'Tpeach9474', 'KennyOliver', 'ronnieangeles', 'mahmud0v', 'carnate-tech', 'mertkilix', 'Ghost1386', 'asmnajmussakibkhan', 'istellaliu', 'QuantumBoy1010', 'polygonnedpotato', 'MadushanNimantha', 'Choikyudong', 'Harshi-itaSinha', 'anthowest', 'emiltervo', 'gustavoturin', 'mohd-salem', 'Infisrael', 'MateSousa', 'marcelozepeunam', 'canyoldas0', 'erfuun', 'madcitymultimedia', 'arunavabasu-03', 'JonathanCristovao', 'ugke', 'Gustavo-Murdiga88', 'uk-2', 'aadarsh-af', 'karthikmurakonda', 'littlelionly', 'ibarraz5', 'vidda5', 'AndreiMariciuc', 'tatvil', 'michelececcacci', 'nabeelnoor', 'sherlcok314159', 'mist1024', 'elerner42', 'vedantraval2310', 'juliana-silva-hub', 'mrrushikeshdaund', 'sudongyuer', 'LlandspitRunzingf', 'jianan1104', 'Westsi', 'AnmolVerma404', 'JoseLopezSolis', 'Ashish0898', 'muratali016', 'ozancck', 'farinaceos', 'zamoosh', 'KISHORE-KUMAR-S', 'anadeem2', 'natdosan', 'cx63cc', 'ForBai', 'David7ce', 'chococandy63', 'lii4ee', 'TruongNhanNguyen', 'itsRealEllis', 'weiliw-amz', 'llllllilllilliii', 'VenuGarlapati26', 'samliu90', 'FukazawaKazushi', 'TheTrueKen', 'StephenOravec', 'sbdeveloper90', 'loupprodi', 'shirushi-dev', 'Samruddhi362', 'lettymoon', 'clearljn', 'jiaweicai92', 'Mairobinsky', 'pritamkpratihari', 'HenryDV', 'federicoreppucci-deliveroo', 'buiquangthanhcode', 'MJ-Tech-H', 'KendallDoesCoding', 'Shrey-Srivastava21', 'harshglory129', 'niravpi', 'Itisjigar', 'piyusagr', 'junzmint', 'enricoasc', 'adnene-guessoum', 'Yajie-Zhang', 'huseyingirgin-eva', 'script-lab', 'ccampa896', 'Ahmedhamza1232001', 'nurullah-arican', 'Ariyandev51', 'ishika1501', 'mdzaberalhamid', 'MuziZwane', 'batz-gg', 'jmoore78', 'Sai-teja-rachamalla', 'ekaterina4952', 'KalvenDebig', 'kumartul', 'eaxoy', 'charan11sv', 'YoliswaD', 'frankpengau', 'wanjanhasan', 'Phillipe-Hugo', 'ndnan', 'MarshallOkafor', 'NickMezacapa', 'fedebayer', 'xwillxu', 'danielaiyuan', 'NavratanPatel', 'Mohammadflht', 'Tahsin411934', 'Samruddhiiii', 'fvarghese99', 'rediahmds', 'nishantb06', 'Louuuaiii', 'FelipeFama', 'sanju50201', 'marcusPrado02', 'Arshu200', 'josephmartinmoran', 'AndreCoutinhom', 'natamartins', 'elcnu986', 'sssamm29', 'techprogo', 'mgaspirc', 'SarfarajRahmn', 'Aniketchaudhary16', 'JeromeXapix', 'ClaudiaA18', 'ElizabethJoseph25', 'Manbendra2014', 'Saleheddin', 'heshara2000', 'Shahid6289', 'henry-vipnet360', 'Kishank111', 'thrashghost', 'prejin2310', 'alismask', 'rodrigommar', 'Sudhanva-Nadiger', 'ethangutknecht', 'mb4m1', 'Lucas1114', 'puppsupr', 'naji0329', 'SuperSmile0109', 'Giasinit', 'apella1', '0laday0', 'pannacottaaaa', 'mars-aria', 'bed-com-29-19', 'ygill', 'isaacbrendel', 'Avidlearner001', 'zagui-master', 'Ganesh972', 'marupon3910', 'Fuko-Ibuki', 'JeffreyChim', 'supbrice', 'black-mold', 'BrunoGr0883', 'tomgangwang', 'emmyoh', 'leonardonakagawa', 'chkp-bryans', 'hgnzheng', 'agurinv', 'sghost13', 'SpikyWU7', 'shashank-mishra14', 'KoolSoul', 'Naveen2334', 'IAMPARSI', 'LeonMS123', 'Angie-Zhang', 'Vladdstian', 'satayuji', 'HJPandey', 'ryanherd', 'gremsyQuanLe', 'Kenaaaaaa', 'koray-aydin', 'lchen104', 'louisphihaihoang', 'YasinAshorian', 'RahulDubey391', 'SnKToR', 'Rupesh510', 'akshit2257', 'pppppyamaP', 'Rajesh562020', 'Trik01', 'zahidhussain998', 'hemsridh', 'Vijay3725', 'DDDavey', 'lowep', 'yolo102938', 'FlawlessCasual17', 'dhineshprabakaran', 'qdclub', 'asimpson0000', 'dmytrochumakov', 'thatme12', 'The-code-is-secret', 'jeremyw-dobeu', 'christine-sandbox', 'Comosaycomosah', 'maxrathmann', 'AaronSMathew', 'FIDEL7Z', 'rohit250799', 'MirboboyevJasurjan', 'nadprime', 'lucasaraujodev', 'aka5050', 'truemanstock', 'tori-ham', 'boscotba', 'jasonthedataguy', 'AContesini', 'julianomolinari', 'Ponthezs', 'akhmadmamirov', 'ParagDD', 'bourbakiN97', 'Myceliose', 'mil2tech', 'menawi', 'ad0niram', 'chrisgomad', 'looooooooy', 'ayitharevanth', 'Julioalvestv', 'Ashishh0007', 'seespike', 'penguinpottery', 'crr-bbai', 'ComprehensiveAmoeba', 'andedavd', 'WLHQ', 'manuelortizus', 'aibolu', 'MaxBryne', 'Frisek', 'shanenichols-channeladvisor', 'mircoisendu', 'soriqoo', 'ThecoderPinar', 'romans1234', 'silviana-hs', 'risingcurve', 'rigvedp97', 'sahanediriweera', 'Raghavendra-Yadav', 'jcf170030', 'ThomasCode92', 'paulaPSOx', 'rsenthur', 'xmartinsbr', 'dhrubajyotifounderofDSoft', 'JulienCamp', 'ryan-w-roche', 'montyma-amazon', 'BryantVencil', 'Vasco-Arts', 'akshaygp18', 'AgentofPhoenix', 'JapnoorHere', 'Zaka123456', 'Pulimi1991', 'modabossymaxk', 'TheNicCraft25', 'Janxxxx', 'BandhiyaHardik', 'srdegbe', 'pushkarcode', 'bbazwalt', 'Fiyinfoluwa28', 'Calum09', 'anbinh93', 'TaryNascimento', 'Itzkuldeep444', 'rafaelgandis', 'iamchiranjeebpanda01', 'gsoni1', 'aniruddhawathare', 'Qianru69', 'samiamorshed', 'mrlizhaozhi', 'chris6090', 'soorajaryan007', 'IKashCode', 'Anmol5519', 'fernandobraz88', 'bhargavbijjam', 'BigSlum', 'RomDev7', 'doski22', 'allaboutevemirolive', 'hongbo-wei', 'mdhumairraza', 'Laindrion', 'kdelcampo13', 'Hoppeful', 'vaddikeshavareddy', 'MahdiCodee', 'DonzerHD', 'darenj456', 'coder-nian', 'shubmanh', 'kybex11', 'VasanthamHimaanshu', 'luizvulpi', 'SvipWangyh', 'innocentc', '1jana0', 'Armkas', 'mgtian03', 'GuilhermeeCustodio', 'rajwadejii', 'carlosgomezi', 'fevziismailsahin', 'RaviYadav02', 'DadMouth82', 'jvitorlk', 'lr-devx', 'Su-Tcode', 'gitteedara', 'iam-back', 'Ananya2311', 'MaxwellNi', 'eloidieme', 'winfredbo', 'DeclanGH', 'xcrar', 'Sheepdog2022', 'Salvapazzo86', 'Mohamed988o', 'htiennv', 'Shashank1407', 'ali-fraz', 'sbaws', 'rany01', 'Anis-Web', 'Ig0rFA', 'Som-III', 'wshanleee', 'ansh2903', 'konpap-chan', 'sudoblanc', 'Arun-gox', 'amitsingh2022', 'java-oss', 'misaelsp', 'developer1618', 'JaafarLezzaik', 'AliHossam98', 'Renpeng01', 'shanechioa', 'pchalise7', 'Valliebby', 'camilasoares045', 'poemww', 'Sray47', 'Alexdon1988', 'aminbiography', 'Svetozara3363', 'MarcelloCordal', 'github-world192', 'rajeshkanugu', 'sivalaxman07', 'raphaelguardiano', 'choiruddine', 'Nithin-singiri', 'adiibnuajat', 'krishnagptamcs', 'yanwei257', 'gauravchakrxborty', 'sergiojfsunior', 'GiuLOCX', 'firefitdesgns', 'themrhoffmann', 'mgrundwuermer', 'ryanAMZN', 'Philipabao', 'bnmbz', 'Parvbird', 'Olaffson', 'Hamza-H10', 'karthik121222', 'timboslice832', 'braedonbillingsley', 'gilleswb', 'Naruto-79', 'aostar168', 'tinajiang26', 'marcosdataleal', 'nandarshan', 'HappyDream0317', 'Andrei-Boghiu', 'martinOofay2023', 'josielabreu', 'VISHALVARUN011002', 'ColdCodedotso', '19raulruiz68', 'zaim03767', 'Nanigullipalli', 'imishangrover', 'wiscdn', 'ortanaV2', 'sks972', 'omarhabd', 'Kayra-Baran', 'purushoth2603', 'ywangire', 'ZenShuHara', 'chende1121', 'TF-185', 'VidhiS07', 'JCOOPER5646', 'danylo-miranda', 'SangaoWe', 'Maycon-dSilva', 'imanol-2021-12', 'cropoffquadcopter', 'andregustavoaguiar', 'aws-apradana', 'choimikey', 'nazidul', 'yudai-shibuya', 'datamoro', 'Maycon-Melo', 'lanjua5899', 'AnnaleaLayton', 'notjustjoshin', 'niveshatom11', 'LucaMaximilianBuchwald', 'amenihong', 'MT-Designs', 'ben9672', 'YuvalYanay', 'Abeldsonndiku', 'AKBANK28', 'WIN1NG22', 'GauravDevOps711', 'BogdanKlimov11', 'paracatuatomico', 'PatientProblemSolver', 'the-new-fifty-two', 'DavideSchirru17', 'RajVishal7', 'CameronScarpati', 'adityadatta11', 'joaovgcoelho', 'V-AI-ML-DL-DS-PL-PYTHON-JAVA-GO-2023-0', 'Umesh2851997', 'Amisha-verma2907', 'ocupadaparavc', 'nogueiralf', 'zactseng', 'ricberht', 'ChamelePhantom', 'abolfazlhajjar', 'Tariq-Anjum', 'vedamjamz', 'adminjd', 'justzh', 'Zzzyyy2023', 'Chrishargrove58', 'Kikikickss', 'luneto10', '538mansi', 'INGVARtattoodjnWEBdev', 'PPCXZ', 'cvs0', 'ZumaGr', 'rshuba4', 'sairavi5887', 'ravigiri91', 'dminduca', 'mohamedtalhaouii', 'vx-vijay', 'Sofyaolvs', 'hatimharrati', 'acya-amazon', 'kidu-s', 'AJd2005', 'unstatistical', 'niroshinimurugadas', 'harishravi131', 'wishspotting', 'harishravi141', 'harishravi151', 'luisdavidpaz', 'JustSouichi', 'suncoastcloud', 'Nikhildsaroj', 'Pranavprasadsinghs', 'augustomangini', 'miguelkuter', 'Pymster', 'Sethfire2', 'sfc-gh-cmilton', 'smart-person', 'SavetoAI', 'ANVESHBV', 'tufanbil', 'iamakachili', 'arturogaitatzis', 'Morkonian9', 'NikolaiYYDS', 'y-hbb', 'HkDotPY', 'Bishal-11', 'guiherme-git-tec', 'goeo1066', 'GitHub7667', 'SnorlaxCansado', 'fairytalesbrand', 'arch1024', 'remotemommy', 'Sameerkhansabri', 'Disnord', 'AbdullahKhalide', '3d01', 'FlipGeorgios', 'mohamedahmedch', 'negoceio', 'AmirSheikhmagomedov', 'anthonybiondojr', 'zhuofuAMZ', 'WorananH', 'CauaFChristoni', 'rsmelonw', 'Rumie01', 'nickdengamazon', 'iirachet', 'chuqiang188']\n"
     ]
    }
   ],
   "source": [
    "repos_login = []\n",
    "\n",
    "for page in followers_list:\n",
    "    for repo in page:\n",
    "        repos_login.append(repo['login'])\n",
    "\n",
    "print(repos_login)"
   ]
  },
  {
   "cell_type": "code",
   "execution_count": 16,
   "metadata": {},
   "outputs": [],
   "source": [
    "import pandas as pd\n",
    "\n",
    "data = {\"followers_login\": repos_login}\n",
    "df = pd.DataFrame(data)\n",
    "\n",
    "df.to_csv('../../external_data/Desafio3_followers_login.csv')"
   ]
  },
  {
   "cell_type": "markdown",
   "metadata": {},
   "source": [
    "# Desafio 4\n",
    "bora praticar ?"
   ]
  },
  {
   "cell_type": "code",
   "execution_count": 17,
   "metadata": {},
   "outputs": [],
   "source": [
    "#/repos/{owner}/{repo}/forks\n",
    "\n",
    "#https://github.com/amzn/style-dictionary\n",
    "\n"
   ]
  },
  {
   "cell_type": "code",
   "execution_count": 10,
   "metadata": {},
   "outputs": [
    {
     "data": {
      "text/plain": [
       "['/home/igor/Documentos/projeto_Request/scripts/notebook',\n",
       " '/usr/lib/python310.zip',\n",
       " '/usr/lib/python3.10',\n",
       " '/usr/lib/python3.10/lib-dynload',\n",
       " '',\n",
       " '/home/igor/Documentos/projeto_Request/venv/lib/python3.10/site-packages',\n",
       " '~/Documentos/projeto_Request/scripts',\n",
       " '/home/igor/Documentos/projeto_Request/scripts',\n",
       " '/home/igor/Documentos/projeto_Request/scripts']"
      ]
     },
     "execution_count": 10,
     "metadata": {},
     "output_type": "execute_result"
    }
   ],
   "source": [
    "import sys\n",
    "sys.path\n",
    "\n",
    "\n"
   ]
  },
  {
   "cell_type": "code",
   "execution_count": 13,
   "metadata": {},
   "outputs": [],
   "source": [
    "import config\n",
    "access_token = config.TOKEN\n",
    "headers = {'Authorization': 'Bearer ' + access_token,\n",
    "           'X-GitHub-Api-Version': '2022-11-28'}"
   ]
  },
  {
   "cell_type": "code",
   "execution_count": 19,
   "metadata": {},
   "outputs": [
    {
     "data": {
      "text/plain": [
       "'https://api.github.com/repos/amzn/style-dictionary/forks'"
      ]
     },
     "execution_count": 19,
     "metadata": {},
     "output_type": "execute_result"
    }
   ],
   "source": [
    "api_base_url = 'https://api.github.com'\n",
    "owner = 'amzn'\n",
    "repo = 'style-dictionary'\n",
    "\n",
    "url = f'{api_base_url}/repos/{owner}/{repo}/forks'\n",
    "url"
   ]
  },
  {
   "cell_type": "code",
   "execution_count": 20,
   "metadata": {},
   "outputs": [
    {
     "data": {
      "text/plain": [
       "202"
      ]
     },
     "execution_count": 20,
     "metadata": {},
     "output_type": "execute_result"
    }
   ],
   "source": [
    "data = {\n",
    "    'name': 'repo_amzn_style-dictionary',\n",
    "    'default_branch_only': True\n",
    "}\n",
    "\n",
    "response = requests.post(url, json=data, headers=headers)\n",
    "response.status_code"
   ]
  }
 ],
 "metadata": {
  "kernelspec": {
   "display_name": "venv",
   "language": "python",
   "name": "python3"
  },
  "language_info": {
   "codemirror_mode": {
    "name": "ipython",
    "version": 3
   },
   "file_extension": ".py",
   "mimetype": "text/x-python",
   "name": "python",
   "nbconvert_exporter": "python",
   "pygments_lexer": "ipython3",
   "version": "3.10.12"
  }
 },
 "nbformat": 4,
 "nbformat_minor": 2
}
